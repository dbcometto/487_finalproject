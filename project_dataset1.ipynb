{
 "cells": [
  {
   "cell_type": "markdown",
   "metadata": {},
   "source": [
    "This is the file for Dataset 1, \"Covertype.\"  We will be predicting the type of trees in the forest based on a variety of variables."
   ]
  },
  {
   "cell_type": "code",
   "execution_count": 26,
   "metadata": {},
   "outputs": [
    {
     "name": "stdout",
     "output_type": "stream",
     "text": [
      "Downloading dataset\n"
     ]
    }
   ],
   "source": [
    "import pandas as pd\n",
    "import joblib\n",
    "from pathlib import Path\n",
    "from ucimlrepo import fetch_ucirepo \n",
    "\n",
    "# Load the Covertype dataset\n",
    "\n",
    "covertype_features_filename = \"./data/covertype_features.pkl\"\n",
    "covertype_targets_filename = \"./data/covertype_targets.pkl\"\n",
    "path = Path(covertype_features_filename)\n",
    "\n",
    "if True: #not path.is_file():\n",
    "    # download the dataset. It will take about a minute.\n",
    "    print(\"Downloading dataset\")\n",
    "    covertype = fetch_ucirepo(id=31) \n",
    "    \n",
    "    joblib.dump(covertype.data.features, covertype_features_filename)\n",
    "    joblib.dump(covertype.data.targets, covertype_targets_filename)\n",
    "\n",
    "# Load the covertype dataset\n",
    "covertype_features = joblib.load(covertype_features_filename)\n",
    "covertype_targets = joblib.load(covertype_targets_filename)\n",
    "\n"
   ]
  },
  {
   "cell_type": "code",
   "execution_count": null,
   "metadata": {},
   "outputs": [],
   "source": [
    "\n",
    "\n",
    "\n"
   ]
  }
 ],
 "metadata": {
  "kernelspec": {
   "display_name": "venv",
   "language": "python",
   "name": "python3"
  },
  "language_info": {
   "codemirror_mode": {
    "name": "ipython",
    "version": 3
   },
   "file_extension": ".py",
   "mimetype": "text/x-python",
   "name": "python",
   "nbconvert_exporter": "python",
   "pygments_lexer": "ipython3",
   "version": "3.10.11"
  }
 },
 "nbformat": 4,
 "nbformat_minor": 2
}
